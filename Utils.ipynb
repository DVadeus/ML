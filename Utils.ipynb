{
 "cells": [
  {
   "cell_type": "code",
   "execution_count": 20,
   "id": "069c306e",
   "metadata": {},
   "outputs": [],
   "source": [
    "from dotenv import load_dotenv\n",
    "import os\n",
    "\n",
    "load_dotenv()\n",
    "api_key = os.getenv(\"B2_API_KEY\")"
   ]
  },
  {
   "cell_type": "code",
   "execution_count": 22,
   "id": "a531d828",
   "metadata": {},
   "outputs": [
    {
     "name": "stdout",
     "output_type": "stream",
     "text": [
      "<class 'str'>\n"
     ]
    }
   ],
   "source": [
    "print(type(api_key))"
   ]
  },
  {
   "cell_type": "markdown",
   "id": "e1a4c0da",
   "metadata": {},
   "source": [
    "### Subconjunto de 20.000 imagenes de COCO"
   ]
  },
  {
   "cell_type": "code",
   "execution_count": 12,
   "id": "73df167b",
   "metadata": {},
   "outputs": [
    {
     "name": "stdout",
     "output_type": "stream",
     "text": [
      "Subset creado con 20000 imagenes y 145238 anotaciones\n"
     ]
    }
   ],
   "source": [
    "import json\n",
    "import random\n",
    "import os\n",
    "\n",
    "\n",
    "# Rutas\n",
    "annotations_file = \"data/annotations/instances_train2017.json\"\n",
    "images_dir = \"data/train\"\n",
    "\n",
    "# Rutas de salida\n",
    "output_annotations_file = \"data/annotations/instances_train2017_subset.json\"\n",
    "output_images_dir = \"data/train_subset\"\n",
    "\n",
    "#Crear carpeta de salida\n",
    "os.makedirs(output_images_dir, exist_ok = True)\n",
    "\n",
    "# Tamaño subset\n",
    "N = 20000\n",
    "\n",
    "# Cargar JSON\n",
    "with open(annotations_file, \"r\") as f:\n",
    "    coco = json.load(f)\n",
    "\n",
    "# Seleccionar aleatoriamente las imagenes\n",
    "all_images = coco[\"images\"]\n",
    "all_annotations = coco[\"annotations\"]\n",
    "all_categories = coco[\"categories\"]\n",
    "\n",
    "subset_images = random.sample(all_images, N)\n",
    "\n",
    "# Obtener IDs de las imagenes seleccionadas\n",
    "subset_images_ids = {img[\"id\"] for img in subset_images}\n",
    "\n",
    "# Filtrar anotaciones que corresponden a las imagenes seleccionadas\n",
    "subset_annotations = [ann for ann in all_annotations if ann[\"image_id\"] in subset_images_ids]\n",
    "\n",
    "# Obtener las categorías usadas en el subset\n",
    "used_categories_ids = {ann[\"category_id\"] for ann in subset_annotations}\n",
    "subset_categories = [cat for cat in all_categories if cat[\"id\"] in used_categories_ids]\n",
    "\n",
    "# Construir nuevo JSON\n",
    "subset_coco = {\n",
    "    \"images\": subset_images,\n",
    "    \"annotations\": subset_annotations,\n",
    "    \"categories\": subset_categories\n",
    "}\n",
    "\n",
    "# Guardar nuevo JSON\n",
    "with open(output_annotations_file, \"w\") as f:\n",
    "    json.dump(subset_coco , f)\n",
    "\n",
    "print(f\"Subset creado con {len(subset_images)} imagenes y {len(subset_annotations)} anotaciones\")\n",
    "\n",
    "# Copiar imagenes seleccionadas a directorio\n",
    "import shutil\n",
    "for img in subset_images:\n",
    "    filename = img['file_name']\n",
    "    src = os.path.join(images_dir, filename)\n",
    "    dst = os.path.join(output_images_dir, filename)\n",
    "    if os.path.exists(src):\n",
    "        shutil.copy(src, dst)"
   ]
  },
  {
   "cell_type": "markdown",
   "id": "1b623c87",
   "metadata": {},
   "source": []
  }
 ],
 "metadata": {
  "kernelspec": {
   "display_name": "base",
   "language": "python",
   "name": "python3"
  },
  "language_info": {
   "codemirror_mode": {
    "name": "ipython",
    "version": 3
   },
   "file_extension": ".py",
   "mimetype": "text/x-python",
   "name": "python",
   "nbconvert_exporter": "python",
   "pygments_lexer": "ipython3",
   "version": "3.13.5"
  }
 },
 "nbformat": 4,
 "nbformat_minor": 5
}
