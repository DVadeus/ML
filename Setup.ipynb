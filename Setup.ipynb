{
 "cells": [
  {
   "cell_type": "markdown",
   "id": "ca43361f",
   "metadata": {},
   "source": [
    "### Git Setup"
   ]
  },
  {
   "cell_type": "code",
   "execution_count": null,
   "id": "a5d928fd",
   "metadata": {
    "vscode": {
     "languageId": "plaintext"
    }
   },
   "outputs": [],
   "source": [
    "git init\n",
    "\n",
    "git config --global user.name \"Tu Nombre\"\n",
    "git config --global user.email \"tuemail@example.com\"\n",
    "\n",
    "git remote add origin https://github.com/tuusuario/ML.git\n",
    "\n",
    "git add .\n",
    "git commit -m \"Primer commit - Subida de carpeta ML\"\n",
    "\n",
    "git branch -M main\n",
    "\n",
    "git pull origin main --allow-unrelated-histories\n",
    "\n",
    "git push -u origin main"
   ]
  },
  {
   "cell_type": "markdown",
   "id": "3d5a346a",
   "metadata": {},
   "source": []
  }
 ],
 "metadata": {
  "language_info": {
   "name": "python"
  }
 },
 "nbformat": 4,
 "nbformat_minor": 5
}
