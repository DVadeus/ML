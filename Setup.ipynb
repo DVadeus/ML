{
 "cells": [
  {
   "cell_type": "markdown",
   "id": "ca43361f",
   "metadata": {},
   "source": [
    "### Git Setup"
   ]
  },
  {
   "cell_type": "code",
   "execution_count": null,
   "id": "a5d928fd",
   "metadata": {
    "vscode": {
     "languageId": "plaintext"
    }
   },
   "outputs": [],
   "source": [
    "git init\n",
    "\n",
    "git config --global user.name \"Tu Nombre\"\n",
    "git config --global user.email \"tuemail@example.com\"\n",
    "\n",
    "git remote add origin https://github.com/tuusuario/ML.git\n",
    "\n",
    "git add .\n",
    "git commit -m \"Primer commit - Subida de carpeta ML\"\n",
    "\n",
    "git branch -M main\n",
    "\n",
    "git pull origin main --allow-unrelated-histories\n",
    "\n",
    "git push -u origin main"
   ]
  },
  {
   "cell_type": "markdown",
   "id": "3d5a346a",
   "metadata": {},
   "source": [
    "### B2 Setup"
   ]
  },
  {
   "cell_type": "code",
   "execution_count": null,
   "id": "a2951b66",
   "metadata": {
    "vscode": {
     "languageId": "plaintext"
    }
   },
   "outputs": [],
   "source": [
    "pip install b2\n",
    "\n",
    "b2 authorize-account <keyID> <applicationKey>\n",
    "\n",
    "b2 create-bucket coco-dataset allPublic"
   ]
  },
  {
   "cell_type": "markdown",
   "id": "8b02b4b3",
   "metadata": {},
   "source": [
    "### DVC"
   ]
  },
  {
   "cell_type": "code",
   "execution_count": null,
   "id": "d20f3937",
   "metadata": {
    "vscode": {
     "languageId": "plaintext"
    }
   },
   "outputs": [],
   "source": [
    "pip install dvc[s3]\n",
    "\n",
    "dvc init\n",
    "dvc remote add -d b2remote b2://bucketB2DV\n",
    "dvc remote modify b2remote endpointurl https://s3.us-east-005.backblazeb2.com\n",
    "dvc remote modify b2remote access_key_id <B2_KEY_ID>\n",
    "dvc remote modify b2remote secret_access_key <B2_APP_KEY>\n",
    "dvc add data/train.zip\n",
    "dvc add data/val.zip\n",
    "git add data/.gitignore data/*.dvc\n",
    "git commit -m \"Add train and val datasets to DVC\"\n",
    "dvc push"
   ]
  },
  {
   "cell_type": "markdown",
   "id": "a45e9f84",
   "metadata": {},
   "source": [
    "### Data"
   ]
  },
  {
   "cell_type": "markdown",
   "id": "bc4764d2",
   "metadata": {},
   "source": [
    "Train data: 118287\n",
    "Validation data: 5000"
   ]
  },
  {
   "cell_type": "code",
   "execution_count": null,
   "id": "66a12ab8",
   "metadata": {
    "vscode": {
     "languageId": "plaintext"
    }
   },
   "outputs": [],
   "source": []
  }
 ],
 "metadata": {
  "language_info": {
   "name": "python"
  }
 },
 "nbformat": 4,
 "nbformat_minor": 5
}
